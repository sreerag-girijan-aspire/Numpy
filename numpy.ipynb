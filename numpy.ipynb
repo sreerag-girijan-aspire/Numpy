{
 "cells": [
  {
   "cell_type": "markdown",
   "metadata": {},
   "source": [
    "# Hi\n",
    "## Hi\n",
    "### Hi\n",
    "#### Hi\n",
    "##### Hi\n",
    "###### Hi"
   ]
  },
  {
   "cell_type": "code",
   "execution_count": 2,
   "metadata": {},
   "outputs": [],
   "source": [
    "import numpy as np"
   ]
  },
  {
   "cell_type": "code",
   "execution_count": 3,
   "metadata": {},
   "outputs": [
    {
     "name": "stdout",
     "output_type": "stream",
     "text": [
      "[0 1 2 3 4 5 6 7 8 9]\n"
     ]
    }
   ],
   "source": [
    "l1=np.array([x for x in range(10)])\n",
    "print(l1)"
   ]
  },
  {
   "cell_type": "code",
   "execution_count": 4,
   "metadata": {},
   "outputs": [
    {
     "name": "stdout",
     "output_type": "stream",
     "text": [
      "<class 'numpy.ndarray'>\n",
      "(10,)\n",
      "[ 0  2  4  6  8 10 12 14 16 18]\n"
     ]
    }
   ],
   "source": [
    "print(type(l1))\n",
    "print(l1.shape)\n",
    "print(l1*2)"
   ]
  },
  {
   "cell_type": "code",
   "execution_count": 5,
   "metadata": {},
   "outputs": [
    {
     "name": "stdout",
     "output_type": "stream",
     "text": [
      "[0, 1, 2, 3, 4, 5, 6, 7, 8, 9, 0, 1, 2, 3, 4, 5, 6, 7, 8, 9]\n"
     ]
    }
   ],
   "source": [
    "l2=[x for x in range(10)]\n",
    "print(l2*2)"
   ]
  },
  {
   "cell_type": "code",
   "execution_count": 6,
   "metadata": {},
   "outputs": [
    {
     "name": "stdout",
     "output_type": "stream",
     "text": [
      "1\n"
     ]
    }
   ],
   "source": [
    "print(l1.ndim)"
   ]
  },
  {
   "cell_type": "code",
   "execution_count": 7,
   "metadata": {},
   "outputs": [
    {
     "data": {
      "text/plain": [
       "array([[ 0,  1,  2,  3,  4],\n",
       "       [ 5,  6,  7,  8,  9],\n",
       "       [10, 11, 12, 13, 14],\n",
       "       [15, 16, 17, 18, 19]])"
      ]
     },
     "execution_count": 7,
     "metadata": {},
     "output_type": "execute_result"
    }
   ],
   "source": [
    "list2d=[[x+j for j in range(5)] for x in range(0,5*4,5)]\n",
    "list2d=np.array(list2d)\n",
    "list2d"
   ]
  },
  {
   "cell_type": "code",
   "execution_count": 8,
   "metadata": {},
   "outputs": [
    {
     "name": "stdout",
     "output_type": "stream",
     "text": [
      "2\n",
      "(4, 5)\n"
     ]
    }
   ],
   "source": [
    "print(list2d.ndim)\n",
    "print(list2d.shape)"
   ]
  },
  {
   "cell_type": "code",
   "execution_count": 9,
   "metadata": {},
   "outputs": [
    {
     "data": {
      "text/plain": [
       "array([[[ 0,  1,  2,  3,  4],\n",
       "        [ 5,  6,  7,  8,  9],\n",
       "        [10, 11, 12, 13, 14],\n",
       "        [15, 16, 17, 18, 19]],\n",
       "\n",
       "       [[ 0,  1,  2,  3,  4],\n",
       "        [ 5,  6,  7,  8,  9],\n",
       "        [10, 11, 12, 13, 14],\n",
       "        [15, 16, 17, 18, 19]],\n",
       "\n",
       "       [[ 0,  1,  2,  3,  4],\n",
       "        [ 5,  6,  7,  8,  9],\n",
       "        [10, 11, 12, 13, 14],\n",
       "        [15, 16, 17, 18, 19]]])"
      ]
     },
     "execution_count": 9,
     "metadata": {},
     "output_type": "execute_result"
    }
   ],
   "source": [
    "list3d=[[[x+j for j in range(5)] for x in range(0,5*4,5)] for z in range(3)]\n",
    "list3d=np.array(list3d)\n",
    "list3d"
   ]
  },
  {
   "cell_type": "code",
   "execution_count": 10,
   "metadata": {},
   "outputs": [
    {
     "name": "stdout",
     "output_type": "stream",
     "text": [
      "60\n",
      "(3, 4, 5)\n",
      "3\n"
     ]
    }
   ],
   "source": [
    "print(list3d.size)\n",
    "print(list3d.shape)\n",
    "print(list3d.ndim)"
   ]
  },
  {
   "cell_type": "markdown",
   "metadata": {},
   "source": [
    "# Reshaping"
   ]
  },
  {
   "cell_type": "markdown",
   "metadata": {},
   "source": [
    "### 1d"
   ]
  },
  {
   "cell_type": "code",
   "execution_count": 11,
   "metadata": {},
   "outputs": [],
   "source": [
    "list1d=[x for x in range(0,3*4)]\n",
    "list1d=np.array(list1d)\n",
    "list2d=list1d.reshape(3,4)\n",
    "list3d=list1d.reshape(3,2,2)"
   ]
  },
  {
   "cell_type": "code",
   "execution_count": 12,
   "metadata": {},
   "outputs": [
    {
     "name": "stdout",
     "output_type": "stream",
     "text": [
      "[[ 0  1  2  3]\n",
      " [ 4  5  6  7]\n",
      " [ 8  9 10 11]]\n",
      "****************************************************************************************************\n",
      "[[[ 0  1]\n",
      "  [ 2  3]]\n",
      "\n",
      " [[ 4  5]\n",
      "  [ 6  7]]\n",
      "\n",
      " [[ 8  9]\n",
      "  [10 11]]]\n"
     ]
    }
   ],
   "source": [
    "print(list2d)\n",
    "print('*'*100)\n",
    "print(list3d)"
   ]
  },
  {
   "cell_type": "markdown",
   "metadata": {},
   "source": [
    "### 2d"
   ]
  },
  {
   "cell_type": "code",
   "execution_count": 13,
   "metadata": {},
   "outputs": [
    {
     "data": {
      "text/plain": [
       "array([[ 0,  1,  2,  3,  4],\n",
       "       [ 5,  6,  7,  8,  9],\n",
       "       [10, 11, 12, 13, 14],\n",
       "       [15, 16, 17, 18, 19]])"
      ]
     },
     "execution_count": 13,
     "metadata": {},
     "output_type": "execute_result"
    }
   ],
   "source": [
    "list2d=[[x+j for j in range(5)] for x in range(0,5*4,5)]\n",
    "list2d=np.array(list2d)\n",
    "list2d"
   ]
  },
  {
   "cell_type": "code",
   "execution_count": 14,
   "metadata": {},
   "outputs": [
    {
     "name": "stdout",
     "output_type": "stream",
     "text": [
      "4 5\n"
     ]
    }
   ],
   "source": [
    "r,c=list2d.shape\n",
    "print(r,c)\n"
   ]
  },
  {
   "cell_type": "code",
   "execution_count": 15,
   "metadata": {},
   "outputs": [
    {
     "data": {
      "text/plain": [
       "array([ 0,  1,  2,  3,  4,  5,  6,  7,  8,  9, 10, 11, 12, 13, 14, 15, 16,\n",
       "       17, 18, 19])"
      ]
     },
     "execution_count": 15,
     "metadata": {},
     "output_type": "execute_result"
    }
   ],
   "source": [
    "\n",
    "list1d=list2d.reshape(r*c)\n",
    "list1d"
   ]
  },
  {
   "cell_type": "code",
   "execution_count": 16,
   "metadata": {},
   "outputs": [
    {
     "data": {
      "text/plain": [
       "array([[[ 0,  1,  2,  3,  4],\n",
       "        [ 5,  6,  7,  8,  9]],\n",
       "\n",
       "       [[10, 11, 12, 13, 14],\n",
       "        [15, 16, 17, 18, 19]]])"
      ]
     },
     "execution_count": 16,
     "metadata": {},
     "output_type": "execute_result"
    }
   ],
   "source": [
    "list3d=list2d.reshape(2,r//2,c)\n",
    "list3d"
   ]
  },
  {
   "cell_type": "markdown",
   "metadata": {},
   "source": [
    "### 3d"
   ]
  },
  {
   "cell_type": "code",
   "execution_count": 17,
   "metadata": {},
   "outputs": [
    {
     "data": {
      "text/plain": [
       "array([[[ 0,  1,  2,  3,  4],\n",
       "        [ 5,  6,  7,  8,  9],\n",
       "        [10, 11, 12, 13, 14],\n",
       "        [15, 16, 17, 18, 19]],\n",
       "\n",
       "       [[ 0,  1,  2,  3,  4],\n",
       "        [ 5,  6,  7,  8,  9],\n",
       "        [10, 11, 12, 13, 14],\n",
       "        [15, 16, 17, 18, 19]],\n",
       "\n",
       "       [[ 0,  1,  2,  3,  4],\n",
       "        [ 5,  6,  7,  8,  9],\n",
       "        [10, 11, 12, 13, 14],\n",
       "        [15, 16, 17, 18, 19]]])"
      ]
     },
     "execution_count": 17,
     "metadata": {},
     "output_type": "execute_result"
    }
   ],
   "source": [
    "list3d=[[[x+j for j in range(5)] for x in range(0,5*4,5)] for z in range(3)]\n",
    "list3d=np.array(list3d)\n",
    "list3d"
   ]
  },
  {
   "cell_type": "code",
   "execution_count": 18,
   "metadata": {},
   "outputs": [
    {
     "name": "stdout",
     "output_type": "stream",
     "text": [
      "3 4 5\n"
     ]
    }
   ],
   "source": [
    "z,r,c=list3d.shape\n",
    "print(z,r,c)"
   ]
  },
  {
   "cell_type": "code",
   "execution_count": 19,
   "metadata": {},
   "outputs": [
    {
     "data": {
      "text/plain": [
       "array([[ 0,  1,  2,  3,  4],\n",
       "       [ 5,  6,  7,  8,  9],\n",
       "       [10, 11, 12, 13, 14],\n",
       "       [15, 16, 17, 18, 19],\n",
       "       [ 0,  1,  2,  3,  4],\n",
       "       [ 5,  6,  7,  8,  9],\n",
       "       [10, 11, 12, 13, 14],\n",
       "       [15, 16, 17, 18, 19],\n",
       "       [ 0,  1,  2,  3,  4],\n",
       "       [ 5,  6,  7,  8,  9],\n",
       "       [10, 11, 12, 13, 14],\n",
       "       [15, 16, 17, 18, 19]])"
      ]
     },
     "execution_count": 19,
     "metadata": {},
     "output_type": "execute_result"
    }
   ],
   "source": [
    "list2d=list3d.reshape(r*z,c)\n",
    "list2d"
   ]
  },
  {
   "cell_type": "code",
   "execution_count": 20,
   "metadata": {},
   "outputs": [
    {
     "data": {
      "text/plain": [
       "array([[ 0,  1,  2,  3,  4,  5,  6,  7,  8,  9, 10, 11, 12, 13, 14],\n",
       "       [15, 16, 17, 18, 19,  0,  1,  2,  3,  4,  5,  6,  7,  8,  9],\n",
       "       [10, 11, 12, 13, 14, 15, 16, 17, 18, 19,  0,  1,  2,  3,  4],\n",
       "       [ 5,  6,  7,  8,  9, 10, 11, 12, 13, 14, 15, 16, 17, 18, 19]])"
      ]
     },
     "execution_count": 20,
     "metadata": {},
     "output_type": "execute_result"
    }
   ],
   "source": [
    "list2d=list3d.reshape(r,c*z)\n",
    "list2d"
   ]
  },
  {
   "cell_type": "code",
   "execution_count": 21,
   "metadata": {},
   "outputs": [
    {
     "data": {
      "text/plain": [
       "array([ 0,  1,  2,  3,  4,  5,  6,  7,  8,  9, 10, 11, 12, 13, 14, 15, 16,\n",
       "       17, 18, 19,  0,  1,  2,  3,  4,  5,  6,  7,  8,  9, 10, 11, 12, 13,\n",
       "       14, 15, 16, 17, 18, 19,  0,  1,  2,  3,  4,  5,  6,  7,  8,  9, 10,\n",
       "       11, 12, 13, 14, 15, 16, 17, 18, 19])"
      ]
     },
     "execution_count": 21,
     "metadata": {},
     "output_type": "execute_result"
    }
   ],
   "source": [
    "list1d=list3d.reshape(r*c*z)\n",
    "list1d"
   ]
  },
  {
   "cell_type": "code",
   "execution_count": 22,
   "metadata": {},
   "outputs": [
    {
     "data": {
      "text/plain": [
       "array([ 0,  1,  2,  3,  4,  5,  6,  7,  8,  9, 10, 11, 12, 13, 14, 15, 16,\n",
       "       17, 18, 19,  0,  1,  2,  3,  4,  5,  6,  7,  8,  9, 10, 11, 12, 13,\n",
       "       14, 15, 16, 17, 18, 19,  0,  1,  2,  3,  4,  5,  6,  7,  8,  9, 10,\n",
       "       11, 12, 13, 14, 15, 16, 17, 18, 19])"
      ]
     },
     "execution_count": 22,
     "metadata": {},
     "output_type": "execute_result"
    }
   ],
   "source": [
    "list1d=list3d.reshape(-1)\n",
    "list1d"
   ]
  },
  {
   "cell_type": "code",
   "execution_count": 23,
   "metadata": {},
   "outputs": [
    {
     "name": "stdout",
     "output_type": "stream",
     "text": [
      "int64\n",
      "int64\n",
      "int64\n"
     ]
    }
   ],
   "source": [
    "print(list1d.dtype)\n",
    "print(list2d.dtype)\n",
    "print(list3d.dtype)\n"
   ]
  },
  {
   "cell_type": "markdown",
   "metadata": {},
   "source": [
    "# Array Creation Methods\n"
   ]
  },
  {
   "cell_type": "code",
   "execution_count": 24,
   "metadata": {},
   "outputs": [
    {
     "name": "stdout",
     "output_type": "stream",
     "text": [
      "[ 0  1  2  3  4  5  6  7  8  9 10 11]\n",
      "[ 0  1  2  3  4  5  6  7  8  9 10 11]\n"
     ]
    }
   ],
   "source": [
    "list1d=[x for x in range(0,3*4)]                #list\n",
    "arr=np.array(list1d)\n",
    "print(arr)\n",
    "list1d=(0, 1, 2, 3, 4, 5, 6, 7, 8, 9, 10, 11)   #tuple\n",
    "arr=np.array(list1d)\n",
    "print(arr)"
   ]
  },
  {
   "cell_type": "markdown",
   "metadata": {},
   "source": [
    "# np.zeros"
   ]
  },
  {
   "cell_type": "code",
   "execution_count": 25,
   "metadata": {},
   "outputs": [
    {
     "name": "stdout",
     "output_type": "stream",
     "text": [
      "[0. 0. 0. 0. 0.]\n",
      "****************************************************************************************************\n",
      "[[0. 0. 0. 0. 0.]\n",
      " [0. 0. 0. 0. 0.]\n",
      " [0. 0. 0. 0. 0.]]\n",
      "****************************************************************************************************\n",
      "[[[0. 0. 0. 0. 0.]\n",
      "  [0. 0. 0. 0. 0.]]\n",
      "\n",
      " [[0. 0. 0. 0. 0.]\n",
      "  [0. 0. 0. 0. 0.]]\n",
      "\n",
      " [[0. 0. 0. 0. 0.]\n",
      "  [0. 0. 0. 0. 0.]]]\n"
     ]
    }
   ],
   "source": [
    "arr=np.zeros(5)\n",
    "print(arr)\n",
    "print(\"*\"*100)\n",
    "arr=np.zeros((3,5))\n",
    "print(arr)\n",
    "print(\"*\"*100)\n",
    "arr=np.zeros((3,2,5))\n",
    "print(arr)"
   ]
  },
  {
   "cell_type": "markdown",
   "metadata": {},
   "source": [
    "# np.ones"
   ]
  },
  {
   "cell_type": "code",
   "execution_count": 26,
   "metadata": {},
   "outputs": [
    {
     "name": "stdout",
     "output_type": "stream",
     "text": [
      "[1. 1. 1. 1. 1.]\n",
      "****************************************************************************************************\n",
      "[[1. 1. 1. 1. 1.]\n",
      " [1. 1. 1. 1. 1.]\n",
      " [1. 1. 1. 1. 1.]]\n",
      "****************************************************************************************************\n",
      "[[[1. 1. 1. 1. 1.]\n",
      "  [1. 1. 1. 1. 1.]]\n",
      "\n",
      " [[1. 1. 1. 1. 1.]\n",
      "  [1. 1. 1. 1. 1.]]\n",
      "\n",
      " [[1. 1. 1. 1. 1.]\n",
      "  [1. 1. 1. 1. 1.]]]\n"
     ]
    }
   ],
   "source": [
    "arr=np.ones(5)\n",
    "print(arr)\n",
    "print(\"*\"*100)\n",
    "arr=np.ones((3,5))\n",
    "print(arr)\n",
    "print(\"*\"*100)\n",
    "arr=np.ones((3,2,5))\n",
    "print(arr)"
   ]
  },
  {
   "cell_type": "markdown",
   "metadata": {},
   "source": [
    "## arange"
   ]
  },
  {
   "cell_type": "code",
   "execution_count": 27,
   "metadata": {},
   "outputs": [
    {
     "name": "stdout",
     "output_type": "stream",
     "text": [
      "[ 0  1  2  3  4  5  6  7  8  9 10 11 12 13 14 15 16 17 18 19 20 21 22 23\n",
      " 24 25 26 27 28 29 30 31 32 33 34 35 36 37 38 39 40 41 42 43 44 45 46 47\n",
      " 48 49 50 51 52 53 54 55 56 57 58 59 60 61 62 63 64 65 66 67 68 69 70 71\n",
      " 72 73 74 75 76 77 78 79 80 81 82 83 84 85 86 87 88 89 90 91 92 93 94 95\n",
      " 96 97 98 99]\n",
      "****************************************************************************************************\n",
      "[10 12 14 16 18 20 22 24 26 28 30 32 34 36 38 40 42 44 46 48 50 52 54 56\n",
      " 58 60 62 64 66 68 70 72 74 76 78 80 82 84 86 88 90 92 94 96 98]\n"
     ]
    }
   ],
   "source": [
    "print(np.arange(100))\n",
    "print('*'*100)\n",
    "print(np.arange(10,100,2))"
   ]
  },
  {
   "cell_type": "markdown",
   "metadata": {},
   "source": [
    "# linspace"
   ]
  },
  {
   "cell_type": "code",
   "execution_count": 28,
   "metadata": {},
   "outputs": [
    {
     "name": "stdout",
     "output_type": "stream",
     "text": [
      "[ 10.          14.73684211  19.47368421  24.21052632  28.94736842\n",
      "  33.68421053  38.42105263  43.15789474  47.89473684  52.63157895\n",
      "  57.36842105  62.10526316  66.84210526  71.57894737  76.31578947\n",
      "  81.05263158  85.78947368  90.52631579  95.26315789 100.        ]\n",
      "****************************************************************************************************\n"
     ]
    }
   ],
   "source": [
    "print(np.linspace(10,100,20))\n",
    "print('*'*100)\n"
   ]
  },
  {
   "cell_type": "markdown",
   "metadata": {},
   "source": [
    "# eye"
   ]
  },
  {
   "cell_type": "code",
   "execution_count": 29,
   "metadata": {},
   "outputs": [
    {
     "name": "stdout",
     "output_type": "stream",
     "text": [
      "[[1. 0. 0.]\n",
      " [0. 1. 0.]\n",
      " [0. 0. 1.]]\n",
      "****************************************************************************************************\n",
      "[[1. 0. 0.]\n",
      " [0. 1. 0.]\n",
      " [0. 0. 1.]\n",
      " [0. 0. 0.]]\n"
     ]
    }
   ],
   "source": [
    "print(np.eye(3))\n",
    "print('*'*100)\n",
    "print(np.eye(4,3))"
   ]
  },
  {
   "cell_type": "markdown",
   "metadata": {},
   "source": [
    "# fill"
   ]
  },
  {
   "cell_type": "code",
   "execution_count": 30,
   "metadata": {},
   "outputs": [
    {
     "name": "stdout",
     "output_type": "stream",
     "text": [
      "[8 8 8]\n",
      "****************************************************************************************************\n",
      "[[[7 7 7 7]\n",
      "  [7 7 7 7]\n",
      "  [7 7 7 7]]\n",
      "\n",
      " [[7 7 7 7]\n",
      "  [7 7 7 7]\n",
      "  [7 7 7 7]]]\n"
     ]
    }
   ],
   "source": [
    "print(np.full(3,8))\n",
    "print('*'*100)\n",
    "print(np.full((2,3,4),7))"
   ]
  },
  {
   "cell_type": "markdown",
   "metadata": {},
   "source": [
    "# random.randint"
   ]
  },
  {
   "cell_type": "code",
   "execution_count": 31,
   "metadata": {},
   "outputs": [
    {
     "name": "stdout",
     "output_type": "stream",
     "text": [
      "2\n",
      "****************************************************************************************************\n",
      "23\n",
      "****************************************************************************************************\n",
      "[178 151 120 123 177 162 107 119 156 116]\n",
      "****************************************************************************************************\n",
      "[[135 169 169 124 179]\n",
      " [163 118 146 199 161]\n",
      " [156 187 106 193 151]]\n",
      "****************************************************************************************************\n",
      "[[[167 163 147 143]\n",
      "  [160 131 170 127]\n",
      "  [186 155 155 185]\n",
      "  [183 161 169 123]\n",
      "  [150 183 181 142]]\n",
      "\n",
      " [[167 138 137 101]\n",
      "  [118 105 103 141]\n",
      "  [131 125 176 180]\n",
      "  [173 116 104 131]\n",
      "  [172 161 165 164]]\n",
      "\n",
      " [[133 145 122 125]\n",
      "  [165 168 197 130]\n",
      "  [182 123 186 163]\n",
      "  [124 156 168 183]\n",
      "  [138 133 129 131]]]\n"
     ]
    }
   ],
   "source": [
    "print(np.random.randint(3))\n",
    "print('*'*100)\n",
    "print(np.random.randint(3,100))\n",
    "print('*'*100)\n",
    "print(np.random.randint(100,200,10))\n",
    "print('*'*100)\n",
    "print(np.random.randint(100,200,(3,5)))\n",
    "print('*'*100)\n",
    "print(np.random.randint(100,200,(3,5,4)))\n"
   ]
  },
  {
   "cell_type": "markdown",
   "metadata": {},
   "source": [
    "# random.random"
   ]
  },
  {
   "cell_type": "code",
   "execution_count": 32,
   "metadata": {},
   "outputs": [
    {
     "name": "stdout",
     "output_type": "stream",
     "text": [
      "[0.14934218 0.66598316 0.15749369]\n",
      "****************************************************************************************************\n",
      "[[0.59883149 0.9698542  0.12270926 0.81656679 0.73033294]\n",
      " [0.66971421 0.46068355 0.34764404 0.340671   0.65153842]\n",
      " [0.59678093 0.0986345  0.96109765 0.04949431 0.87687406]]\n",
      "****************************************************************************************************\n",
      "[[[0.76519932 0.42297653 0.85628587 0.35031202]\n",
      "  [0.60195412 0.75413339 0.314559   0.0043912 ]\n",
      "  [0.62228753 0.32976213 0.16372957 0.16570839]\n",
      "  [0.94379182 0.49528202 0.93511062 0.37641666]\n",
      "  [0.14683645 0.25504818 0.05685097 0.56226229]]\n",
      "\n",
      " [[0.22363455 0.97554161 0.75882726 0.87738934]\n",
      "  [0.67386105 0.09225639 0.89201805 0.86386798]\n",
      "  [0.10049627 0.07675318 0.54238259 0.14946104]\n",
      "  [0.66276678 0.08827035 0.62139288 0.1258139 ]\n",
      "  [0.78791224 0.83730186 0.46207662 0.87842228]]\n",
      "\n",
      " [[0.43734099 0.65583789 0.21051061 0.08527541]\n",
      "  [0.04425003 0.28452149 0.20626041 0.23874844]\n",
      "  [0.87055859 0.74128292 0.15856964 0.0646048 ]\n",
      "  [0.13778334 0.62373098 0.80853402 0.23495402]\n",
      "  [0.81785335 0.52847707 0.46351636 0.13440696]]]\n"
     ]
    }
   ],
   "source": [
    "print(np.random.random(3))\n",
    "print('*'*100)\n",
    "print(np.random.random((3,5)))\n",
    "print('*'*100)\n",
    "print(np.random.random((3,5,4)))\n"
   ]
  },
  {
   "cell_type": "markdown",
   "metadata": {},
   "source": [
    "# Indexing"
   ]
  },
  {
   "cell_type": "markdown",
   "metadata": {},
   "source": [
    "## 1D array indexing"
   ]
  },
  {
   "cell_type": "code",
   "execution_count": 33,
   "metadata": {},
   "outputs": [
    {
     "name": "stdout",
     "output_type": "stream",
     "text": [
      "[ 10  20  30  40  50  60  70  80  90 100]\n",
      "30\n",
      "100\n"
     ]
    }
   ],
   "source": [
    "arr=np.arange(10,101,10)\n",
    "print(arr)\n",
    "print(arr[2])\n",
    "print(arr[-1])"
   ]
  },
  {
   "cell_type": "markdown",
   "metadata": {},
   "source": [
    "## 2D array indexing"
   ]
  },
  {
   "cell_type": "code",
   "execution_count": 34,
   "metadata": {},
   "outputs": [
    {
     "name": "stdout",
     "output_type": "stream",
     "text": [
      "[[52 70 80  5 49]\n",
      " [15 67 58 14 54]\n",
      " [88 51 63 34 29]\n",
      " [49 43  8 71 60]]\n",
      "67\n",
      "67\n"
     ]
    }
   ],
   "source": [
    "arr=np.random.randint(1,100,(4,5))\n",
    "print(arr)\n",
    "print(arr[1,1])\n",
    "print(arr[1][1])"
   ]
  },
  {
   "cell_type": "markdown",
   "metadata": {},
   "source": [
    "## 3D array indexing"
   ]
  },
  {
   "cell_type": "code",
   "execution_count": 35,
   "metadata": {},
   "outputs": [
    {
     "name": "stdout",
     "output_type": "stream",
     "text": [
      "[[[55 85 77  3]\n",
      "  [80 82 89 59]]\n",
      "\n",
      " [[55  9 94 23]\n",
      "  [ 3 57 52 58]]\n",
      "\n",
      " [[25 45 62 96]\n",
      "  [29 94 62 94]]]\n",
      "****************************************************************************************************\n",
      "59\n",
      "****************************************************************************************************\n",
      "59\n"
     ]
    }
   ],
   "source": [
    "arr=np.random.randint(1,100,(3,2,4))\n",
    "print(arr)\n",
    "print('*'*100)\n",
    "print(arr[0,1,3])\n",
    "print('*'*100)\n",
    "print(arr[0][1][3])"
   ]
  },
  {
   "cell_type": "markdown",
   "metadata": {},
   "source": [
    "# slicing"
   ]
  },
  {
   "cell_type": "markdown",
   "metadata": {},
   "source": [
    "## 1d slicing"
   ]
  },
  {
   "cell_type": "code",
   "execution_count": 36,
   "metadata": {},
   "outputs": [
    {
     "name": "stdout",
     "output_type": "stream",
     "text": [
      "[48 97 28 39 16 44 86 70  9 98]\n",
      "****************************************************************************************************\n",
      "[28 39 16]\n",
      "****************************************************************************************************\n",
      "[28 16 86]\n",
      "****************************************************************************************************\n",
      "[28 39 16 44 86 70  9 98]\n",
      "****************************************************************************************************\n",
      "[48 97 28 39 16]\n",
      "****************************************************************************************************\n",
      "[48 28 16 86  9]\n"
     ]
    }
   ],
   "source": [
    "arr_1d=np.random.randint(1,100,10)\n",
    "print(arr_1d)\n",
    "print('*'*100)\n",
    "print(arr_1d[2:5])\n",
    "print('*'*100)\n",
    "print(arr_1d[2:8:2])\n",
    "print('*'*100)\n",
    "print(arr_1d[2:])\n",
    "print('*'*100)\n",
    "print(arr_1d[:5])\n",
    "print('*'*100)\n",
    "print(arr_1d[::2])"
   ]
  },
  {
   "cell_type": "markdown",
   "metadata": {},
   "source": [
    "## 2d slicing"
   ]
  },
  {
   "cell_type": "code",
   "execution_count": 37,
   "metadata": {},
   "outputs": [
    {
     "name": "stdout",
     "output_type": "stream",
     "text": [
      "[[54 57 78 72 69 41]\n",
      " [42 93 25 19 85 25]\n",
      " [42 52 75  1 74 50]\n",
      " [32 91 21 90 31 14]]\n",
      "****************************************************************************************************\n",
      "[25 19]\n",
      "****************************************************************************************************\n",
      "[[52 75]\n",
      " [91 21]]\n"
     ]
    }
   ],
   "source": [
    "arr_2d=np.random.randint(1,100,(4,6))\n",
    "print(arr_2d)\n",
    "print('*'*100)\n",
    "print(arr_2d[1,2:4])\n",
    "print('*'*100)\n",
    "print(arr_2d[2:4,1:3])"
   ]
  },
  {
   "cell_type": "markdown",
   "metadata": {},
   "source": [
    "## 3d slicing"
   ]
  },
  {
   "cell_type": "code",
   "execution_count": 38,
   "metadata": {},
   "outputs": [
    {
     "name": "stdout",
     "output_type": "stream",
     "text": [
      "[[[78 93 47 94 64]\n",
      "  [16 63 10 38 46]\n",
      "  [51 41 40 53 40]\n",
      "  [43 91  8 11 75]]\n",
      "\n",
      " [[22  2 60 36 69]\n",
      "  [88 63  2 40 66]\n",
      "  [81 55 46 49 46]\n",
      "  [60 59 71 45 48]]\n",
      "\n",
      " [[ 9 55 73  8  3]\n",
      "  [33 31 78 16 72]\n",
      "  [57 31 73  6 83]\n",
      "  [93 35 18 56 14]]\n",
      "\n",
      " [[98 97 82 87 68]\n",
      "  [43 64 41 89 67]\n",
      "  [ 6 25 31 42 45]\n",
      "  [36 90 95 55 56]]]\n",
      "****************************************************************************************************\n",
      "[55 73  8  3]\n",
      "****************************************************************************************************\n",
      "[[[63  2]\n",
      "  [55 46]]\n",
      "\n",
      " [[31 78]\n",
      "  [31 73]]]\n"
     ]
    }
   ],
   "source": [
    "arr_3d=np.random.randint(1,100,(4,4,5))\n",
    "print(arr_3d)\n",
    "print('*'*100)\n",
    "print(arr_3d[2,0,1:])\n",
    "print('*'*100)\n",
    "print(arr_3d[1:3,1:3,1:3])"
   ]
  },
  {
   "cell_type": "code",
   "execution_count": 41,
   "metadata": {},
   "outputs": [
    {
     "name": "stdout",
     "output_type": "stream",
     "text": [
      "[53  2 76  1 49 37 71 38  2 15  1 22 82 36 28]\n",
      "513\n",
      "82\n",
      "1\n"
     ]
    }
   ],
   "source": [
    "arr=np.random.randint(1,100,15)\n",
    "sum=arr.sum()\n",
    "print(arr)\n",
    "print(sum)\n",
    "print(arr.max())\n",
    "print(arr.min())"
   ]
  },
  {
   "cell_type": "markdown",
   "metadata": {},
   "source": [
    "## argmax"
   ]
  },
  {
   "cell_type": "code",
   "execution_count": null,
   "metadata": {},
   "outputs": [
    {
     "data": {
      "text/plain": [
       "np.int64(12)"
      ]
     },
     "execution_count": 42,
     "metadata": {},
     "output_type": "execute_result"
    }
   ],
   "source": [
    "arr.argmax()    # Return index of max value"
   ]
  },
  {
   "cell_type": "markdown",
   "metadata": {},
   "source": [
    "## concat"
   ]
  },
  {
   "cell_type": "code",
   "execution_count": 49,
   "metadata": {},
   "outputs": [
    {
     "name": "stdout",
     "output_type": "stream",
     "text": [
      "[[ 2 81]\n",
      " [22 11]]\n",
      "[[13 39]\n",
      " [63 75]]\n",
      "[[ 2 81]\n",
      " [22 11]\n",
      " [13 39]\n",
      " [63 75]]\n"
     ]
    }
   ],
   "source": [
    "arr1=np.random.randint(1,100,(2,2))\n",
    "arr2=np.random.randint(1,100,(2,2))\n",
    "print(arr1)\n",
    "print(arr2)\n",
    "arr3=np.concat([arr1,arr2],axis=0)\n",
    "print(arr3)"
   ]
  },
  {
   "cell_type": "markdown",
   "metadata": {},
   "source": [
    "## sort"
   ]
  },
  {
   "cell_type": "code",
   "execution_count": 1080,
   "metadata": {},
   "outputs": [
    {
     "name": "stdout",
     "output_type": "stream",
     "text": [
      "[89 36 40 35  4 32 47 45 56 43 63  4  6 14 77]\n",
      "[ 4  4  6 14 32 35 36 40 43 45 47 56 63 77 89]\n"
     ]
    }
   ],
   "source": [
    "arr=np.random.randint(1,100,15)\n",
    "print(arr)\n",
    "arr.sort()\n",
    "print(arr)\n"
   ]
  },
  {
   "cell_type": "markdown",
   "metadata": {},
   "source": [
    "## copy"
   ]
  },
  {
   "cell_type": "code",
   "execution_count": 1081,
   "metadata": {},
   "outputs": [
    {
     "name": "stdout",
     "output_type": "stream",
     "text": [
      "[42  2  3  4  5]\n",
      "[42  2  3  4  5]\n"
     ]
    }
   ],
   "source": [
    "arr = np.array([1, 2, 3, 4, 5])\n",
    "x = arr\n",
    "arr[0] = 42\n",
    "\n",
    "print(arr)\n",
    "print(x)"
   ]
  },
  {
   "cell_type": "code",
   "execution_count": 1082,
   "metadata": {},
   "outputs": [
    {
     "name": "stdout",
     "output_type": "stream",
     "text": [
      "[42  2  3  4  5]\n",
      "[1 2 3 4 5]\n"
     ]
    }
   ],
   "source": [
    "arr = np.array([1, 2, 3, 4, 5])\n",
    "x = arr.copy()\n",
    "arr[0] = 42\n",
    "\n",
    "print(arr)\n",
    "print(x)"
   ]
  },
  {
   "cell_type": "markdown",
   "metadata": {},
   "source": [
    "## view"
   ]
  },
  {
   "cell_type": "code",
   "execution_count": 1083,
   "metadata": {},
   "outputs": [
    {
     "name": "stdout",
     "output_type": "stream",
     "text": [
      "[31  2  3  4  5]\n",
      "[31  2  3  4  5]\n"
     ]
    }
   ],
   "source": [
    "arr = np.array([1, 2, 3, 4, 5])\n",
    "x = arr\n",
    "x[0] = 31\n",
    "\n",
    "print(arr)\n",
    "print(x)"
   ]
  },
  {
   "cell_type": "code",
   "execution_count": 1084,
   "metadata": {},
   "outputs": [
    {
     "name": "stdout",
     "output_type": "stream",
     "text": [
      "[31  2  3  4  5]\n",
      "[31  2  3  4  5]\n"
     ]
    }
   ],
   "source": [
    "arr = np.array([1, 2, 3, 4, 5])\n",
    "x = arr.view()\n",
    "x[0] = 31\n",
    "\n",
    "print(arr)\n",
    "print(x)"
   ]
  },
  {
   "cell_type": "markdown",
   "metadata": {},
   "source": [
    "## find indices"
   ]
  },
  {
   "cell_type": "code",
   "execution_count": 1085,
   "metadata": {},
   "outputs": [
    {
     "name": "stdout",
     "output_type": "stream",
     "text": [
      "(array([3, 5, 6]),)\n"
     ]
    }
   ],
   "source": [
    "arr = np.array([1, 2, 3, 4, 5, 4, 4])\n",
    "\n",
    "x = np.where(arr == 4)\n",
    "\n",
    "print(x)"
   ]
  },
  {
   "cell_type": "code",
   "execution_count": 1086,
   "metadata": {},
   "outputs": [
    {
     "name": "stdout",
     "output_type": "stream",
     "text": [
      "(array([1, 3, 5, 7]),)\n"
     ]
    }
   ],
   "source": [
    "arr = np.array([1, 2, 3, 4, 5, 6, 7, 8])\n",
    "\n",
    "x = np.where(arr%2 == 0)\n",
    "\n",
    "print(x)"
   ]
  }
 ],
 "metadata": {
  "kernelspec": {
   "display_name": "venv_numpy",
   "language": "python",
   "name": "python3"
  },
  "language_info": {
   "codemirror_mode": {
    "name": "ipython",
    "version": 3
   },
   "file_extension": ".py",
   "mimetype": "text/x-python",
   "name": "python",
   "nbconvert_exporter": "python",
   "pygments_lexer": "ipython3",
   "version": "3.12.9"
  }
 },
 "nbformat": 4,
 "nbformat_minor": 2
}
