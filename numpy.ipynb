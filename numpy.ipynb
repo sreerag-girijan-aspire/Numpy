{
 "cells": [
  {
   "cell_type": "markdown",
   "metadata": {},
   "source": [
    "# Hi\n",
    "## Hi\n",
    "### Hi\n",
    "#### Hi\n",
    "##### Hi\n",
    "###### Hi"
   ]
  },
  {
   "cell_type": "code",
   "execution_count": 3,
   "metadata": {},
   "outputs": [],
   "source": [
    "import numpy as np"
   ]
  },
  {
   "cell_type": "code",
   "execution_count": 5,
   "metadata": {},
   "outputs": [
    {
     "name": "stdout",
     "output_type": "stream",
     "text": [
      "[0 1 2 3 4 5 6 7 8 9]\n"
     ]
    }
   ],
   "source": [
    "l1=np.array([x for x in range(10)])\n",
    "print(l1)"
   ]
  },
  {
   "cell_type": "code",
   "execution_count": 9,
   "metadata": {},
   "outputs": [
    {
     "name": "stdout",
     "output_type": "stream",
     "text": [
      "<class 'numpy.ndarray'>\n",
      "(10,)\n",
      "[ 0  2  4  6  8 10 12 14 16 18]\n"
     ]
    }
   ],
   "source": [
    "print(type(l1))\n",
    "print(l1.shape)\n",
    "print(l1*2)"
   ]
  },
  {
   "cell_type": "code",
   "execution_count": 10,
   "metadata": {},
   "outputs": [
    {
     "name": "stdout",
     "output_type": "stream",
     "text": [
      "[0, 1, 2, 3, 4, 5, 6, 7, 8, 9, 0, 1, 2, 3, 4, 5, 6, 7, 8, 9]\n"
     ]
    }
   ],
   "source": [
    "l2=[x for x in range(10)]\n",
    "print(l2*2)"
   ]
  },
  {
   "cell_type": "code",
   "execution_count": 23,
   "metadata": {},
   "outputs": [
    {
     "name": "stdout",
     "output_type": "stream",
     "text": [
      "1\n"
     ]
    }
   ],
   "source": [
    "print(l1.ndim)"
   ]
  },
  {
   "cell_type": "code",
   "execution_count": 19,
   "metadata": {},
   "outputs": [
    {
     "data": {
      "text/plain": [
       "array([[ 0,  1,  2,  3,  4],\n",
       "       [ 5,  6,  7,  8,  9],\n",
       "       [10, 11, 12, 13, 14],\n",
       "       [15, 16, 17, 18, 19]])"
      ]
     },
     "execution_count": 19,
     "metadata": {},
     "output_type": "execute_result"
    }
   ],
   "source": [
    "list2d=[[x+j for j in range(5)] for x in range(0,5*4,5)]\n",
    "list2d=np.array(list2d)\n",
    "list2d"
   ]
  },
  {
   "cell_type": "code",
   "execution_count": 29,
   "metadata": {},
   "outputs": [
    {
     "name": "stdout",
     "output_type": "stream",
     "text": [
      "2\n",
      "(4, 5)\n"
     ]
    }
   ],
   "source": [
    "print(list2d.ndim)\n",
    "print(list2d.shape)"
   ]
  },
  {
   "cell_type": "code",
   "execution_count": 25,
   "metadata": {},
   "outputs": [
    {
     "data": {
      "text/plain": [
       "array([[[ 0,  1,  2,  3,  4],\n",
       "        [ 5,  6,  7,  8,  9],\n",
       "        [10, 11, 12, 13, 14],\n",
       "        [15, 16, 17, 18, 19]],\n",
       "\n",
       "       [[ 0,  1,  2,  3,  4],\n",
       "        [ 5,  6,  7,  8,  9],\n",
       "        [10, 11, 12, 13, 14],\n",
       "        [15, 16, 17, 18, 19]],\n",
       "\n",
       "       [[ 0,  1,  2,  3,  4],\n",
       "        [ 5,  6,  7,  8,  9],\n",
       "        [10, 11, 12, 13, 14],\n",
       "        [15, 16, 17, 18, 19]]])"
      ]
     },
     "execution_count": 25,
     "metadata": {},
     "output_type": "execute_result"
    }
   ],
   "source": [
    "list3d=[[[x+j for j in range(5)] for x in range(0,5*4,5)] for z in range(3)]\n",
    "list3d=np.array(list3d)\n",
    "list3d"
   ]
  },
  {
   "cell_type": "code",
   "execution_count": 28,
   "metadata": {},
   "outputs": [
    {
     "name": "stdout",
     "output_type": "stream",
     "text": [
      "60\n",
      "(3, 4, 5)\n",
      "3\n"
     ]
    }
   ],
   "source": [
    "print(list3d.size)\n",
    "print(list3d.shape)\n",
    "print(list3d.ndim)"
   ]
  },
  {
   "cell_type": "markdown",
   "metadata": {},
   "source": [
    "# Reshaping"
   ]
  },
  {
   "cell_type": "markdown",
   "metadata": {},
   "source": [
    "### 1d"
   ]
  },
  {
   "cell_type": "code",
   "execution_count": 35,
   "metadata": {},
   "outputs": [],
   "source": [
    "list1d=[x for x in range(0,3*4)]\n",
    "list1d=np.array(list1d)\n",
    "list2d=list1d.reshape(3,4)\n",
    "list3d=list1d.reshape(3,2,2)"
   ]
  },
  {
   "cell_type": "code",
   "execution_count": 39,
   "metadata": {},
   "outputs": [
    {
     "name": "stdout",
     "output_type": "stream",
     "text": [
      "[[ 0  1  2  3]\n",
      " [ 4  5  6  7]\n",
      " [ 8  9 10 11]]\n",
      "****************************************************************************************************\n",
      "[[[ 0  1]\n",
      "  [ 2  3]]\n",
      "\n",
      " [[ 4  5]\n",
      "  [ 6  7]]\n",
      "\n",
      " [[ 8  9]\n",
      "  [10 11]]]\n"
     ]
    }
   ],
   "source": [
    "print(list2d)\n",
    "print('*'*100)\n",
    "print(list3d)"
   ]
  },
  {
   "cell_type": "markdown",
   "metadata": {},
   "source": [
    "### 2d"
   ]
  },
  {
   "cell_type": "code",
   "execution_count": 40,
   "metadata": {},
   "outputs": [
    {
     "data": {
      "text/plain": [
       "array([[ 0,  1,  2,  3,  4],\n",
       "       [ 5,  6,  7,  8,  9],\n",
       "       [10, 11, 12, 13, 14],\n",
       "       [15, 16, 17, 18, 19]])"
      ]
     },
     "execution_count": 40,
     "metadata": {},
     "output_type": "execute_result"
    }
   ],
   "source": [
    "list2d=[[x+j for j in range(5)] for x in range(0,5*4,5)]\n",
    "list2d=np.array(list2d)\n",
    "list2d"
   ]
  },
  {
   "cell_type": "code",
   "execution_count": 46,
   "metadata": {},
   "outputs": [
    {
     "name": "stdout",
     "output_type": "stream",
     "text": [
      "4 5\n"
     ]
    }
   ],
   "source": [
    "r,c=list2d.shape\n",
    "print(r,c)\n"
   ]
  },
  {
   "cell_type": "code",
   "execution_count": 45,
   "metadata": {},
   "outputs": [
    {
     "data": {
      "text/plain": [
       "array([ 0,  1,  2,  3,  4,  5,  6,  7,  8,  9, 10, 11, 12, 13, 14, 15, 16,\n",
       "       17, 18, 19])"
      ]
     },
     "execution_count": 45,
     "metadata": {},
     "output_type": "execute_result"
    }
   ],
   "source": [
    "\n",
    "list1d=list2d.reshape(r*c)\n",
    "list1d"
   ]
  },
  {
   "cell_type": "code",
   "execution_count": 49,
   "metadata": {},
   "outputs": [
    {
     "data": {
      "text/plain": [
       "array([[[ 0,  1,  2,  3,  4],\n",
       "        [ 5,  6,  7,  8,  9]],\n",
       "\n",
       "       [[10, 11, 12, 13, 14],\n",
       "        [15, 16, 17, 18, 19]]])"
      ]
     },
     "execution_count": 49,
     "metadata": {},
     "output_type": "execute_result"
    }
   ],
   "source": [
    "list3d=list2d.reshape(2,r//2,c)\n",
    "list3d"
   ]
  },
  {
   "cell_type": "markdown",
   "metadata": {},
   "source": [
    "### 3d"
   ]
  },
  {
   "cell_type": "code",
   "execution_count": 50,
   "metadata": {},
   "outputs": [
    {
     "data": {
      "text/plain": [
       "array([[[ 0,  1,  2,  3,  4],\n",
       "        [ 5,  6,  7,  8,  9],\n",
       "        [10, 11, 12, 13, 14],\n",
       "        [15, 16, 17, 18, 19]],\n",
       "\n",
       "       [[ 0,  1,  2,  3,  4],\n",
       "        [ 5,  6,  7,  8,  9],\n",
       "        [10, 11, 12, 13, 14],\n",
       "        [15, 16, 17, 18, 19]],\n",
       "\n",
       "       [[ 0,  1,  2,  3,  4],\n",
       "        [ 5,  6,  7,  8,  9],\n",
       "        [10, 11, 12, 13, 14],\n",
       "        [15, 16, 17, 18, 19]]])"
      ]
     },
     "execution_count": 50,
     "metadata": {},
     "output_type": "execute_result"
    }
   ],
   "source": [
    "list3d=[[[x+j for j in range(5)] for x in range(0,5*4,5)] for z in range(3)]\n",
    "list3d=np.array(list3d)\n",
    "list3d"
   ]
  },
  {
   "cell_type": "code",
   "execution_count": 51,
   "metadata": {},
   "outputs": [
    {
     "name": "stdout",
     "output_type": "stream",
     "text": [
      "3 4 5\n"
     ]
    }
   ],
   "source": [
    "z,r,c=list3d.shape\n",
    "print(z,r,c)"
   ]
  },
  {
   "cell_type": "code",
   "execution_count": 52,
   "metadata": {},
   "outputs": [
    {
     "data": {
      "text/plain": [
       "array([[ 0,  1,  2,  3,  4],\n",
       "       [ 5,  6,  7,  8,  9],\n",
       "       [10, 11, 12, 13, 14],\n",
       "       [15, 16, 17, 18, 19],\n",
       "       [ 0,  1,  2,  3,  4],\n",
       "       [ 5,  6,  7,  8,  9],\n",
       "       [10, 11, 12, 13, 14],\n",
       "       [15, 16, 17, 18, 19],\n",
       "       [ 0,  1,  2,  3,  4],\n",
       "       [ 5,  6,  7,  8,  9],\n",
       "       [10, 11, 12, 13, 14],\n",
       "       [15, 16, 17, 18, 19]])"
      ]
     },
     "execution_count": 52,
     "metadata": {},
     "output_type": "execute_result"
    }
   ],
   "source": [
    "list2d=list3d.reshape(r*z,c)\n",
    "list2d"
   ]
  },
  {
   "cell_type": "code",
   "execution_count": 53,
   "metadata": {},
   "outputs": [
    {
     "data": {
      "text/plain": [
       "array([[ 0,  1,  2,  3,  4,  5,  6,  7,  8,  9, 10, 11, 12, 13, 14],\n",
       "       [15, 16, 17, 18, 19,  0,  1,  2,  3,  4,  5,  6,  7,  8,  9],\n",
       "       [10, 11, 12, 13, 14, 15, 16, 17, 18, 19,  0,  1,  2,  3,  4],\n",
       "       [ 5,  6,  7,  8,  9, 10, 11, 12, 13, 14, 15, 16, 17, 18, 19]])"
      ]
     },
     "execution_count": 53,
     "metadata": {},
     "output_type": "execute_result"
    }
   ],
   "source": [
    "list2d=list3d.reshape(r,c*z)\n",
    "list2d"
   ]
  },
  {
   "cell_type": "code",
   "execution_count": 54,
   "metadata": {},
   "outputs": [
    {
     "data": {
      "text/plain": [
       "array([ 0,  1,  2,  3,  4,  5,  6,  7,  8,  9, 10, 11, 12, 13, 14, 15, 16,\n",
       "       17, 18, 19,  0,  1,  2,  3,  4,  5,  6,  7,  8,  9, 10, 11, 12, 13,\n",
       "       14, 15, 16, 17, 18, 19,  0,  1,  2,  3,  4,  5,  6,  7,  8,  9, 10,\n",
       "       11, 12, 13, 14, 15, 16, 17, 18, 19])"
      ]
     },
     "execution_count": 54,
     "metadata": {},
     "output_type": "execute_result"
    }
   ],
   "source": [
    "list1d=list3d.reshape(r*c*z)\n",
    "list1d"
   ]
  },
  {
   "cell_type": "code",
   "execution_count": 55,
   "metadata": {},
   "outputs": [
    {
     "data": {
      "text/plain": [
       "array([ 0,  1,  2,  3,  4,  5,  6,  7,  8,  9, 10, 11, 12, 13, 14, 15, 16,\n",
       "       17, 18, 19,  0,  1,  2,  3,  4,  5,  6,  7,  8,  9, 10, 11, 12, 13,\n",
       "       14, 15, 16, 17, 18, 19,  0,  1,  2,  3,  4,  5,  6,  7,  8,  9, 10,\n",
       "       11, 12, 13, 14, 15, 16, 17, 18, 19])"
      ]
     },
     "execution_count": 55,
     "metadata": {},
     "output_type": "execute_result"
    }
   ],
   "source": [
    "list1d=list3d.reshape(-1)\n",
    "list1d"
   ]
  },
  {
   "cell_type": "code",
   "execution_count": 57,
   "metadata": {},
   "outputs": [
    {
     "name": "stdout",
     "output_type": "stream",
     "text": [
      "int64\n",
      "int64\n",
      "int64\n"
     ]
    }
   ],
   "source": [
    "print(list1d.dtype)\n",
    "print(list2d.dtype)\n",
    "print(list3d.dtype)\n"
   ]
  },
  {
   "cell_type": "markdown",
   "metadata": {},
   "source": [
    "# Array Creation Methods\n"
   ]
  },
  {
   "cell_type": "code",
   "execution_count": null,
   "metadata": {},
   "outputs": [
    {
     "name": "stdout",
     "output_type": "stream",
     "text": [
      "[ 0  1  2  3  4  5  6  7  8  9 10 11]\n",
      "[ 0  1  2  3  4  5  6  7  8  9 10 11]\n"
     ]
    }
   ],
   "source": [
    "list1d=[x for x in range(0,3*4)]                #list\n",
    "arr=np.array(list1d)\n",
    "print(arr)\n",
    "list1d=(0, 1, 2, 3, 4, 5, 6, 7, 8, 9, 10, 11)   #tuple\n",
    "arr=np.array(list1d)\n",
    "print(arr)"
   ]
  },
  {
   "cell_type": "markdown",
   "metadata": {},
   "source": [
    "# np.zeros"
   ]
  },
  {
   "cell_type": "code",
   "execution_count": 66,
   "metadata": {},
   "outputs": [
    {
     "name": "stdout",
     "output_type": "stream",
     "text": [
      "[0. 0. 0. 0. 0.]\n",
      "****************************************************************************************************\n",
      "[[0. 0. 0. 0. 0.]\n",
      " [0. 0. 0. 0. 0.]\n",
      " [0. 0. 0. 0. 0.]]\n",
      "****************************************************************************************************\n",
      "[[[0. 0. 0. 0. 0.]\n",
      "  [0. 0. 0. 0. 0.]]\n",
      "\n",
      " [[0. 0. 0. 0. 0.]\n",
      "  [0. 0. 0. 0. 0.]]\n",
      "\n",
      " [[0. 0. 0. 0. 0.]\n",
      "  [0. 0. 0. 0. 0.]]]\n"
     ]
    }
   ],
   "source": [
    "arr=np.zeros(5)\n",
    "print(arr)\n",
    "print(\"*\"*100)\n",
    "arr=np.zeros((3,5))\n",
    "print(arr)\n",
    "print(\"*\"*100)\n",
    "arr=np.zeros((3,2,5))\n",
    "print(arr)"
   ]
  },
  {
   "cell_type": "markdown",
   "metadata": {},
   "source": [
    "# np.ones"
   ]
  },
  {
   "cell_type": "code",
   "execution_count": 69,
   "metadata": {},
   "outputs": [
    {
     "name": "stdout",
     "output_type": "stream",
     "text": [
      "[1. 1. 1. 1. 1.]\n",
      "****************************************************************************************************\n",
      "[[1. 1. 1. 1. 1.]\n",
      " [1. 1. 1. 1. 1.]\n",
      " [1. 1. 1. 1. 1.]]\n",
      "****************************************************************************************************\n",
      "[[[1. 1. 1. 1. 1.]\n",
      "  [1. 1. 1. 1. 1.]]\n",
      "\n",
      " [[1. 1. 1. 1. 1.]\n",
      "  [1. 1. 1. 1. 1.]]\n",
      "\n",
      " [[1. 1. 1. 1. 1.]\n",
      "  [1. 1. 1. 1. 1.]]]\n"
     ]
    }
   ],
   "source": [
    "arr=np.ones(5)\n",
    "print(arr)\n",
    "print(\"*\"*100)\n",
    "arr=np.ones((3,5))\n",
    "print(arr)\n",
    "print(\"*\"*100)\n",
    "arr=np.ones((3,2,5))\n",
    "print(arr)"
   ]
  },
  {
   "cell_type": "markdown",
   "metadata": {},
   "source": [
    "## arange"
   ]
  },
  {
   "cell_type": "code",
   "execution_count": 72,
   "metadata": {},
   "outputs": [
    {
     "name": "stdout",
     "output_type": "stream",
     "text": [
      "[ 0  1  2  3  4  5  6  7  8  9 10 11 12 13 14 15 16 17 18 19 20 21 22 23\n",
      " 24 25 26 27 28 29 30 31 32 33 34 35 36 37 38 39 40 41 42 43 44 45 46 47\n",
      " 48 49 50 51 52 53 54 55 56 57 58 59 60 61 62 63 64 65 66 67 68 69 70 71\n",
      " 72 73 74 75 76 77 78 79 80 81 82 83 84 85 86 87 88 89 90 91 92 93 94 95\n",
      " 96 97 98 99]\n",
      "****************************************************************************************************\n",
      "[10 12 14 16 18 20 22 24 26 28 30 32 34 36 38 40 42 44 46 48 50 52 54 56\n",
      " 58 60 62 64 66 68 70 72 74 76 78 80 82 84 86 88 90 92 94 96 98]\n"
     ]
    }
   ],
   "source": [
    "print(np.arange(100))\n",
    "print('*'*100)\n",
    "print(np.arange(10,100,2))"
   ]
  },
  {
   "cell_type": "markdown",
   "metadata": {},
   "source": [
    "# linspace"
   ]
  },
  {
   "cell_type": "code",
   "execution_count": 76,
   "metadata": {},
   "outputs": [
    {
     "name": "stdout",
     "output_type": "stream",
     "text": [
      "[ 10.          14.73684211  19.47368421  24.21052632  28.94736842\n",
      "  33.68421053  38.42105263  43.15789474  47.89473684  52.63157895\n",
      "  57.36842105  62.10526316  66.84210526  71.57894737  76.31578947\n",
      "  81.05263158  85.78947368  90.52631579  95.26315789 100.        ]\n",
      "****************************************************************************************************\n"
     ]
    }
   ],
   "source": [
    "print(np.linspace(10,100,20))\n",
    "print('*'*100)\n"
   ]
  },
  {
   "cell_type": "markdown",
   "metadata": {},
   "source": [
    "# eye"
   ]
  },
  {
   "cell_type": "code",
   "execution_count": 79,
   "metadata": {},
   "outputs": [
    {
     "name": "stdout",
     "output_type": "stream",
     "text": [
      "[[1. 0. 0.]\n",
      " [0. 1. 0.]\n",
      " [0. 0. 1.]]\n",
      "****************************************************************************************************\n",
      "[[1. 0. 0.]\n",
      " [0. 1. 0.]\n",
      " [0. 0. 1.]\n",
      " [0. 0. 0.]]\n"
     ]
    }
   ],
   "source": [
    "print(np.eye(3))\n",
    "print('*'*100)\n",
    "print(np.eye(4,3))"
   ]
  },
  {
   "cell_type": "markdown",
   "metadata": {},
   "source": [
    "# fill"
   ]
  },
  {
   "cell_type": "code",
   "execution_count": 82,
   "metadata": {},
   "outputs": [
    {
     "name": "stdout",
     "output_type": "stream",
     "text": [
      "[8 8 8]\n",
      "****************************************************************************************************\n",
      "[[[7 7 7 7]\n",
      "  [7 7 7 7]\n",
      "  [7 7 7 7]]\n",
      "\n",
      " [[7 7 7 7]\n",
      "  [7 7 7 7]\n",
      "  [7 7 7 7]]]\n"
     ]
    }
   ],
   "source": [
    "print(np.full(3,8))\n",
    "print('*'*100)\n",
    "print(np.full((2,3,4),7))"
   ]
  },
  {
   "cell_type": "markdown",
   "metadata": {},
   "source": [
    "# random.randint"
   ]
  },
  {
   "cell_type": "code",
   "execution_count": 92,
   "metadata": {},
   "outputs": [
    {
     "name": "stdout",
     "output_type": "stream",
     "text": [
      "2\n",
      "****************************************************************************************************\n",
      "92\n",
      "****************************************************************************************************\n",
      "[136 137 188 114 168 193 114 156 187 138]\n",
      "****************************************************************************************************\n",
      "[[164 119 156 126 181]\n",
      " [160 174 158 155 120]\n",
      " [112 131 198 116 141]]\n",
      "****************************************************************************************************\n",
      "[[[199 126 105 188]\n",
      "  [155 101 184 100]\n",
      "  [117 156 119 158]\n",
      "  [180 162 149 136]\n",
      "  [119 106 164 100]]\n",
      "\n",
      " [[124 144 176 179]\n",
      "  [127 158 170 109]\n",
      "  [136 107 118 142]\n",
      "  [166 171 182 187]\n",
      "  [135 102 187 152]]\n",
      "\n",
      " [[113 170 138 197]\n",
      "  [118 142 136 122]\n",
      "  [185 177 103 157]\n",
      "  [163 105 151 168]\n",
      "  [101 157 104 120]]]\n"
     ]
    }
   ],
   "source": [
    "print(np.random.randint(3))\n",
    "print('*'*100)\n",
    "print(np.random.randint(3,100))\n",
    "print('*'*100)\n",
    "print(np.random.randint(100,200,10))\n",
    "print('*'*100)\n",
    "print(np.random.randint(100,200,(3,5)))\n",
    "print('*'*100)\n",
    "print(np.random.randint(100,200,(3,5,4)))\n"
   ]
  },
  {
   "cell_type": "markdown",
   "metadata": {},
   "source": [
    "# random.random"
   ]
  },
  {
   "cell_type": "code",
   "execution_count": 95,
   "metadata": {},
   "outputs": [
    {
     "name": "stdout",
     "output_type": "stream",
     "text": [
      "[0.43140522 0.8931038  0.53511925]\n",
      "****************************************************************************************************\n",
      "[[0.19610157 0.48338626 0.72082287 0.44527807 0.51918601]\n",
      " [0.14062455 0.72380391 0.20465235 0.90921869 0.75430691]\n",
      " [0.37122636 0.43862124 0.43095722 0.48300723 0.86759546]]\n",
      "****************************************************************************************************\n",
      "[[[0.34756823 0.72533536 0.88675791 0.62712101]\n",
      "  [0.27834559 0.3454017  0.23502977 0.52395846]\n",
      "  [0.18492287 0.63825372 0.31812036 0.89855132]\n",
      "  [0.95179785 0.97812005 0.84337834 0.0707898 ]\n",
      "  [0.70569448 0.30412981 0.32066905 0.31485345]]\n",
      "\n",
      " [[0.53078125 0.05797049 0.53261691 0.25487343]\n",
      "  [0.35809117 0.86205662 0.95881607 0.88698019]\n",
      "  [0.87621901 0.64120099 0.92494812 0.02583286]\n",
      "  [0.42585221 0.22165852 0.12528745 0.44329281]\n",
      "  [0.34891956 0.6882133  0.83973054 0.48197138]]\n",
      "\n",
      " [[0.6002394  0.05651132 0.2109876  0.83321742]\n",
      "  [0.58524771 0.70031089 0.93017466 0.36382114]\n",
      "  [0.13636761 0.49034607 0.47991536 0.09479799]\n",
      "  [0.9087235  0.93214398 0.51605991 0.1299304 ]\n",
      "  [0.61041287 0.1394996  0.25452275 0.39961645]]]\n"
     ]
    }
   ],
   "source": [
    "print(np.random.random(3))\n",
    "print('*'*100)\n",
    "print(np.random.random((3,5)))\n",
    "print('*'*100)\n",
    "print(np.random.random((3,5,4)))\n"
   ]
  },
  {
   "cell_type": "markdown",
   "metadata": {},
   "source": [
    "# Indexing"
   ]
  },
  {
   "cell_type": "markdown",
   "metadata": {},
   "source": [
    "## 1D array indexing"
   ]
  },
  {
   "cell_type": "code",
   "execution_count": 100,
   "metadata": {},
   "outputs": [
    {
     "name": "stdout",
     "output_type": "stream",
     "text": [
      "[ 10  20  30  40  50  60  70  80  90 100]\n",
      "30\n",
      "100\n"
     ]
    }
   ],
   "source": [
    "arr=np.arange(10,101,10)\n",
    "print(arr)\n",
    "print(arr[2])\n",
    "print(arr[-1])"
   ]
  },
  {
   "cell_type": "markdown",
   "metadata": {},
   "source": [
    "## 2D array indexing"
   ]
  },
  {
   "cell_type": "code",
   "execution_count": 104,
   "metadata": {},
   "outputs": [
    {
     "name": "stdout",
     "output_type": "stream",
     "text": [
      "[[70 99 56 20 98]\n",
      " [23 18 62 96 97]\n",
      " [93  6 13 43 73]\n",
      " [26 50 59  7 80]]\n",
      "18\n",
      "18\n"
     ]
    }
   ],
   "source": [
    "arr=np.random.randint(1,100,(4,5))\n",
    "print(arr)\n",
    "print(arr[1,1])\n",
    "print(arr[1][1])"
   ]
  },
  {
   "cell_type": "markdown",
   "metadata": {},
   "source": [
    "## 3D array indexing"
   ]
  },
  {
   "cell_type": "code",
   "execution_count": 116,
   "metadata": {},
   "outputs": [
    {
     "name": "stdout",
     "output_type": "stream",
     "text": [
      "[[[49 63  4 78]\n",
      "  [32 97 68  5]]\n",
      "\n",
      " [[58 39 92 54]\n",
      "  [13 42 17 75]]\n",
      "\n",
      " [[17 39 16 47]\n",
      "  [57 63 18 10]]]\n",
      "****************************************************************************************************\n",
      "5\n",
      "****************************************************************************************************\n",
      "5\n"
     ]
    }
   ],
   "source": [
    "arr=np.random.randint(1,100,(3,2,4))\n",
    "print(arr)\n",
    "print('*'*100)\n",
    "print(arr[0,1,3])\n",
    "print('*'*100)\n",
    "print(arr[0][1][3])"
   ]
  },
  {
   "cell_type": "markdown",
   "metadata": {},
   "source": [
    "# slicing"
   ]
  },
  {
   "cell_type": "markdown",
   "metadata": {},
   "source": [
    "## 1d slicing"
   ]
  },
  {
   "cell_type": "code",
   "execution_count": 117,
   "metadata": {},
   "outputs": [
    {
     "name": "stdout",
     "output_type": "stream",
     "text": [
      "[76 68 70 50  6 17 10 76 99 53]\n",
      "****************************************************************************************************\n",
      "[70 50  6]\n",
      "****************************************************************************************************\n",
      "[70  6 10]\n",
      "****************************************************************************************************\n",
      "[70 50  6 17 10 76 99 53]\n",
      "****************************************************************************************************\n",
      "[76 68 70 50  6]\n",
      "****************************************************************************************************\n",
      "[76 70  6 10 99]\n"
     ]
    }
   ],
   "source": [
    "arr_1d=np.random.randint(1,100,10)\n",
    "print(arr_1d)\n",
    "print('*'*100)\n",
    "print(arr_1d[2:5])\n",
    "print('*'*100)\n",
    "print(arr_1d[2:8:2])\n",
    "print('*'*100)\n",
    "print(arr_1d[2:])\n",
    "print('*'*100)\n",
    "print(arr_1d[:5])\n",
    "print('*'*100)\n",
    "print(arr_1d[::2])"
   ]
  },
  {
   "cell_type": "markdown",
   "metadata": {},
   "source": [
    "## 2d slicing"
   ]
  },
  {
   "cell_type": "code",
   "execution_count": 118,
   "metadata": {},
   "outputs": [
    {
     "name": "stdout",
     "output_type": "stream",
     "text": [
      "[[49 59 28 77 68  2]\n",
      " [52 14 45 86 98  3]\n",
      " [ 6 32 51 37 28 91]\n",
      " [71 90 74 58 56 82]]\n",
      "****************************************************************************************************\n",
      "[45 86]\n",
      "****************************************************************************************************\n",
      "[[32 51]\n",
      " [90 74]]\n"
     ]
    }
   ],
   "source": [
    "arr_2d=np.random.randint(1,100,(4,6))\n",
    "print(arr_2d)\n",
    "print('*'*100)\n",
    "print(arr_2d[1,2:4])\n",
    "print('*'*100)\n",
    "print(arr_2d[2:4,1:3])"
   ]
  },
  {
   "cell_type": "markdown",
   "metadata": {},
   "source": [
    "## 3d slicing"
   ]
  },
  {
   "cell_type": "code",
   "execution_count": 123,
   "metadata": {},
   "outputs": [
    {
     "name": "stdout",
     "output_type": "stream",
     "text": [
      "[[[40 25 17 91 74]\n",
      "  [36 10 37 51 72]\n",
      "  [90 82 65 53 53]\n",
      "  [80 62 48 12 54]]\n",
      "\n",
      " [[95 61 34 44 15]\n",
      "  [95 72 39 25 91]\n",
      "  [78 86 50 91 96]\n",
      "  [34 85 41 78 75]]\n",
      "\n",
      " [[59 74 98 68 75]\n",
      "  [52 38 92 83 40]\n",
      "  [38 59 52 43 69]\n",
      "  [ 7 82 48  3 81]]\n",
      "\n",
      " [[18  8 48 79 35]\n",
      "  [88 58 22 24  3]\n",
      "  [99 91 46 99 86]\n",
      "  [39  1 18 13 90]]]\n",
      "****************************************************************************************************\n",
      "[74 98 68 75]\n",
      "****************************************************************************************************\n",
      "[[[72 39]\n",
      "  [86 50]]\n",
      "\n",
      " [[38 92]\n",
      "  [59 52]]]\n"
     ]
    }
   ],
   "source": [
    "arr_3d=np.random.randint(1,100,(4,4,5))\n",
    "print(arr_3d)\n",
    "print('*'*100)\n",
    "print(arr_3d[2,0,1:])\n",
    "print('*'*100)\n",
    "print(arr_3d[1:3,1:3,1:3])"
   ]
  },
  {
   "cell_type": "code",
   "execution_count": null,
   "metadata": {},
   "outputs": [],
   "source": []
  },
  {
   "cell_type": "code",
   "execution_count": null,
   "metadata": {},
   "outputs": [],
   "source": []
  },
  {
   "cell_type": "code",
   "execution_count": null,
   "metadata": {},
   "outputs": [],
   "source": []
  },
  {
   "cell_type": "code",
   "execution_count": null,
   "metadata": {},
   "outputs": [],
   "source": []
  },
  {
   "cell_type": "code",
   "execution_count": null,
   "metadata": {},
   "outputs": [],
   "source": []
  },
  {
   "cell_type": "code",
   "execution_count": null,
   "metadata": {},
   "outputs": [],
   "source": []
  },
  {
   "cell_type": "code",
   "execution_count": null,
   "metadata": {},
   "outputs": [],
   "source": []
  },
  {
   "cell_type": "code",
   "execution_count": null,
   "metadata": {},
   "outputs": [],
   "source": []
  },
  {
   "cell_type": "code",
   "execution_count": null,
   "metadata": {},
   "outputs": [],
   "source": []
  },
  {
   "cell_type": "code",
   "execution_count": null,
   "metadata": {},
   "outputs": [],
   "source": []
  },
  {
   "cell_type": "code",
   "execution_count": null,
   "metadata": {},
   "outputs": [],
   "source": []
  }
 ],
 "metadata": {
  "kernelspec": {
   "display_name": "venv_numpy",
   "language": "python",
   "name": "python3"
  },
  "language_info": {
   "codemirror_mode": {
    "name": "ipython",
    "version": 3
   },
   "file_extension": ".py",
   "mimetype": "text/x-python",
   "name": "python",
   "nbconvert_exporter": "python",
   "pygments_lexer": "ipython3",
   "version": "3.12.9"
  }
 },
 "nbformat": 4,
 "nbformat_minor": 2
}
